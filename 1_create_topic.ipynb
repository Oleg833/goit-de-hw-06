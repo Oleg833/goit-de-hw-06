{
 "cells": [
  {
   "cell_type": "code",
   "execution_count": 1,
   "metadata": {},
   "outputs": [
    {
     "name": "stdout",
     "output_type": "stream",
     "text": [
      "Топіки building_sensors_oleh47, temperature_alerts_oleh47, humidity_alerts_oleh47 створено успішно.\n",
      "['AS_temperature_alerts', 'humidity_alerts_volodymyr14', 'iot_alerts', 'temperature_alerts_romanchuk', 'humidity_alerts_my_unique_id', 'AS_building_sensors', 'building_sensors_eod_goit_de_hw_06', 'iot_sensors_data', 'temperature_alerts_eugene_churylov_1', 'humidity_alerts_eugene_churylov_1', 'lesia999_humidity_alerts', 'oleksiy58_topic_1', 'humidity_alerts_msolonin', 'humidity_alerts_oleh3', 'YT_building_sensors', 'humidity_alerts_volodymyr8', 'building_sensors_volodymyr15', 'temperature_alerts_oleh47', 'temperature_alerts_my_unique_id', 'oleksandra-topic-2', 'sensor_alerts', 'topic_BTCUSDT', 'building_sensors_volodymyr12', 'oleksiy_iot_sensors_data', 'humidity_alerts_volodymyr3', 'veronika2_topic_1', 'temperature_alerts_volodymyr1', 'oleksiy_topic_1', 'building_sensors_volodymyr16', 'oleksiy123_topic_1', 'andriy_b_humidity_alerts', 'lesiaukr_humidity_alerts', 'oleksiy57_topic_1', 'temperature_alerts_green', 'vvd_temperature_alerts', 'my_new_topic', 'artur_temperature_alerts', 'building_sensors_your_name', 'oleksandratk_temperature_alerts', 'lesia123_building_sensors', 'building_sensors_msolonin', 'YT_temperature_alerts', 'YT_humidity_alerts', 'andriy_b_building_sensors', 'lesia_building_sensors', 'lesia999_building_sensors', 'building_sensors_volodymyr3', 'humidity_alerts_volodymyr17', 'humidity_alerts_romanchuk', 'oleksandratk_humidity_alerts', 'temperature_alerts_volodymyr9', 'my_topic_1', 'building_sensors_oleksiy', 'lesia_iot_sensors_aggregated', 'building_sensors_oleh3', 'eduard_topic_1', 'temperature_alerts_volodymyr4', 'building_sensors_volodymyr4', 'humidity_alerts_volodymyr2', 'gree_topic_1', 'humidity_alerts_topic', 'building_sensors', 'humidity_alerts_volodymyr13', 'ovova1_topic_1', 'lesia999_iot_alerts', 'eugene_topic_1', 'artur_home_building_sensors_in', 'building_sensors_volodymyr1', 'building_sensors_volodymyr', 'temperature_alerts_volodymyr10', 'oleksiy_iot_alerts', 'building_sensors_greenmoon', 'humidity_alerts_MZ', 'temperature_alerts_volodymyr8', 'building_sensors_volodymyr9', 'humidity_alerts_eugene_churylov', 'temperature_alerts_rudyi', 'Eduard_topic_1', 'oleksiy7_topic_1', 'building_sensors_spogoretskyi', 'building_sensors_churylov_eugene_1', 'temperature_alerts_volodymyr14', 'oleksandratk_kafka_alerts', 'building_sensors_yevhenii_mentor', 'oleksiy56_topic_1', 'humidity_alerts_nesvit', 'temperature_alerts_volodymyr17', 'oleksandra-topic-1', 'building_sensors_MZ', 'avg_alerts', 'humidity_alerts_volodymyr10', 'artur_home_building_sensors_out', 'vvd_humidity_alerts', 'Artur_humidity_alerts', 'temperature_alerts_goit_goit_de_hw_05', 'lesia999_temperature_alerts', 'humidity_alerts_oleh47', 'veronika_topic_1', 'shop_123', '__consumer_offsets', 'AS_humidity_alerts', 'humidity_alerts_spogoretskyi', 'greenmoon__topic_1', 'lesia999_alerts', 'temperature_alerts_volodymyr11', 'temperature_alerts_volodymyr3', 'building_sensors_volodymyr8', 'lesia_topic_1', 'humidity_alerts_oleksiy', 'building_sensors_goit_goit_de_hw_05', 'temperature_alerts_msolonin', 'humidity_alerts_volodymyr12', 'building_sensors_volodymyr13', 'Artur_temperature_alerts', 'humidity_alerts_oleh', 'building_sensors_topic', 'andriy_b_topic_1', 'humidity_alerts_volodymyr', 'output_topic', 'oleksiy55_topic_1', 'temperature_alerts_eugene_churylov', 'oleksiy_spark_streaming_in', 'temperature_alerts', 'topic_ETHUSDT', 'lesia999_iot_sensors_data', 'andriy_b_temperature_alert', 'temperature_alerts_volodymyr12', 'building_sensors_churylov_eugene_2', 'temperature_alerts_oleh', 'alert_Kafka_topic_churylov_eugene_2', 'alerts_eod_goit_de_hw_06', 'alert_Kafka_topic_churylov_eugene', 'building_sensors_oleh', 'lesia_humidity_alerts', 'temperature_alerts_oleh3', 'building_sensors_volodymyr10', 'oleksiy_spark_streaming_out', 'humidity_alerts_volodymyr16', 'andriy_b_temperature_alerts', 'lesia_iot_alerts', 'humidity_alerts_green', 'humidity_alerts', 'temperature_alerts_volodymyr13', 'artur_humidity_alerts', 'lesia_temperature_alerts', 'iuliia_temperature_alerts', 'Artur_building_sensors', 'building_sensors_oleh47', 'building_sensors_churylov_eugene', 'oleksandratk_building_sensors', 'lesia123_temperature_alerts', 'humidity_alerts_goit_goit_de_hw_05', 'temperature_alerts_greenmoon', 'humidity_alerts_greenmoon', 'humidity_alerts_volodymyr9', 'temperature_alerts_MZ', 'building_sensors_eugene_churylov_1', 'oleksiy67_topic_1', 'andriy_b_humidity_alert', 'temperature_alerts_topic', 'test_topic', 'temperature_alerts_volodymyr', 'veronika1_topic_1', 'humidity_alerts_volodymyr11', 'temperature_alerts_volodymyr2', 'temperature_alerts_volodymyr16', 'avg_alerts_romanchuk', 'lesia123_humidity_alerts', 'humidity_alerts_volodymyr4', 'temperature_alerts_volodymyr15', 'vvd_building_sensors', 'Alex_topic_1', 'building_sensors_volodymyr17', 'artur_topic_1', 'building_sensors_nesvit', 'building_sensors_rudyi', 'building_sensors_eugene_churylov', 'lesiaukr_temperature_alerts', 'lesiaukr_building_sensors', 'building_sensors_volodymyr2', 'currency_raw_dat', 'humidity_alerts_rudyi', 'lesia_iot_sensors_data', 'humidity_alerts_volodymyr1', 'building_sensors_volodymyr14', 'temperature_alerts_nesvit', 'building_sensors_volodymyr11', 'iuliia_building_sensors', 'currency_raw_data', 'athlete_enriched_agg', 'alert_Kafka_topic_churylov_eugene_1', 'temperature_alerts_spogoretskyi', 'topic_XRPUSDT', 'greenmoon_topic_1', 'alert_Kafka_topic', 'iuliia_humidity_alerts', 'building_sensors_my_unique_id', 'athlete_event_results', 'building_sensors_romanchuk', 'alert_Kafka_topic_churyov_eugene_2', 'temperature_alerts_oleksiy', 'humidity_alerts_volodymyr15']\n"
     ]
    }
   ],
   "source": [
    "# create_topic.py\n",
    "from kafka import KafkaAdminClient\n",
    "from kafka.admin import NewTopic\n",
    "from kafka.errors import KafkaError\n",
    "from configs import kafka_config\n",
    "\n",
    "KAFKA_CONFIG = {\n",
    "    \"bootstrap_servers\": kafka_config[\"bootstrap_servers\"],\n",
    "    \"security_protocol\": kafka_config[\"security_protocol\"],\n",
    "    \"sasl_mechanism\": kafka_config[\"sasl_mechanism\"],\n",
    "    \"sasl_plain_username\": kafka_config[\"username\"],\n",
    "    \"sasl_plain_password\": kafka_config[\"password\"],\n",
    "}\n",
    "\n",
    "your_name = \"oleh47\"\n",
    "TOPIC_SENSORS = f\"building_sensors_{your_name}\"\n",
    "TOPIC_TEMPERATURE_ALERTS = f\"temperature_alerts_{your_name}\"\n",
    "TOPIC_HUMIDITY_ALERTS = f\"humidity_alerts_{your_name}\"\n",
    "\n",
    "num_partitions = 3\n",
    "replication_factor = 1\n",
    "def create_topics():\n",
    "    admin_client = KafkaAdminClient(**KAFKA_CONFIG)\n",
    "    topics = [\n",
    "        NewTopic(\n",
    "            name=TOPIC_SENSORS,\n",
    "            num_partitions=num_partitions,\n",
    "            replication_factor=replication_factor,\n",
    "        ),\n",
    "        NewTopic(\n",
    "            name=TOPIC_TEMPERATURE_ALERTS,\n",
    "            num_partitions=num_partitions,\n",
    "            replication_factor=replication_factor,\n",
    "        ),\n",
    "        NewTopic(\n",
    "            name=TOPIC_HUMIDITY_ALERTS,\n",
    "            num_partitions=num_partitions,\n",
    "            replication_factor=replication_factor,\n",
    "        ),\n",
    "    ]\n",
    "    try:\n",
    "        admin_client.create_topics(new_topics=topics, validate_only=False)\n",
    "        print(\n",
    "            f\"Топіки {TOPIC_SENSORS}, {TOPIC_TEMPERATURE_ALERTS}, {TOPIC_HUMIDITY_ALERTS} створено успішно.\"\n",
    "        )\n",
    "        print(admin_client.list_topics())  # Перевіряємо список існуючих топіків\n",
    "        admin_client.close()  # Закриття зв'язку з клієнтом\n",
    "    except KafkaError as e:\n",
    "        print(f\"Помилка під час створення топіків: {e}\")\n",
    "        admin_client.close()\n",
    "\n",
    "if __name__ == \"__main__\":\n",
    "    create_topics()"
   ]
  }
 ],
 "metadata": {
  "kernelspec": {
   "display_name": ".venv",
   "language": "python",
   "name": "python3"
  },
  "language_info": {
   "codemirror_mode": {
    "name": "ipython",
    "version": 3
   },
   "file_extension": ".py",
   "mimetype": "text/x-python",
   "name": "python",
   "nbconvert_exporter": "python",
   "pygments_lexer": "ipython3",
   "version": "3.11.9"
  }
 },
 "nbformat": 4,
 "nbformat_minor": 2
}
