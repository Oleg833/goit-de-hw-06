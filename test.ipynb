{
 "cells": [
  {
   "cell_type": "code",
   "execution_count": 1,
   "metadata": {},
   "outputs": [],
   "source": [
    "from pyspark.sql import SparkSession\n",
    "from pyspark.sql.types import (\n",
    "    StructType,\n",
    "    StructField,\n",
    "    StringType,\n",
    "    IntegerType,\n",
    "    TimestampType,\n",
    ")\n",
    "\n",
    "# Створення SparkSession\n",
    "spark = SparkSession.builder.appName(\"CSVStream\").getOrCreate()\n",
    "\n",
    "# Визначення схеми для CSV-файлу\n",
    "schema = StructType(\n",
    "    [\n",
    "        StructField(\"id\", IntegerType(), True),\n",
    "        StructField(\"event_time\", TimestampType(), True),\n",
    "        StructField(\"value\", StringType(), True),\n",
    "    ]\n",
    ")\n",
    "\n",
    "# Читання потокових даних із CSV-файлу\n",
    "csvDF = (\n",
    "    spark.readStream.option(\"sep\", \",\")\n",
    "    .option(\"header\", True)\n",
    "    .option(\"maxFilesPerTrigger\", 1)\n",
    "    .schema(schema)\n",
    "    .csv(\"csv_directory\")\n",
    ")\n",
    "\n",
    "# Старт стримінгу й виведення результатів на екран\n",
    "query = (\n",
    "    csvDF.writeStream.trigger(availableNow=True)\n",
    "    # .trigger(processingTime='10 seconds')\n",
    "    .outputMode(\"append\")\n",
    "    .format(\"console\")\n",
    "    .start()\n",
    ")\n",
    "\n",
    "# Чекаємо кінця роботи стримінгу\n",
    "query.awaitTermination()"
   ]
  }
 ],
 "metadata": {
  "kernelspec": {
   "display_name": "Python 3",
   "language": "python",
   "name": "python3"
  },
  "language_info": {
   "codemirror_mode": {
    "name": "ipython",
    "version": 3
   },
   "file_extension": ".py",
   "mimetype": "text/x-python",
   "name": "python",
   "nbconvert_exporter": "python",
   "pygments_lexer": "ipython3",
   "version": "3.11.9"
  }
 },
 "nbformat": 4,
 "nbformat_minor": 2
}
