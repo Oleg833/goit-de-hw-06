{
 "cells": [
  {
   "cell_type": "code",
   "execution_count": null,
   "metadata": {},
   "outputs": [],
   "source": [
    "from kafka import KafkaConsumer\n",
    "\n",
    "# Створення консюмера з параметрами безпеки\n",
    "consumer = KafkaConsumer(\n",
    "    'alert_Kafka_topic',  # Ім'я топіка, який ви хочете споживати\n",
    "    bootstrap_servers='77.81.230.104:9092',  # Адреса вашого Kafka брокера\n",
    "    security_protocol=\"SASL_PLAINTEXT\",  # Протокол безпеки (SASL з передачею тексту)\n",
    "    sasl_mechanism=\"PLAIN\",  # Використовуємо SASL механізм 'PLAIN'\n",
    "    sasl_plain_username='admin',  # Логін для автентифікації\n",
    "    sasl_plain_password='VawEzo1ikLtrA8Ug8THa',  # Пароль для автентифікації\n",
    "    auto_offset_reset='earliest',  # Почати читання з самого початку, якщо офсети недоступні\n",
    "    enable_auto_commit=True,  # Автоматичне підтвердження повідомлень\n",
    "    group_id='alert_consumer_group'  # Група консюмерів для координації читання\n",
    ")\n",
    "\n",
    "print(\"Починаємо читання повідомлень з топіка...\")\n",
    "for message in consumer:\n",
    "    print(f\"Отримано повідомлення: {message.value.decode('utf-8')}\")\n"
   ]
  }
 ],
 "metadata": {
  "kernelspec": {
   "display_name": ".venv",
   "language": "python",
   "name": "python3"
  },
  "language_info": {
   "codemirror_mode": {
    "name": "ipython",
    "version": 3
   },
   "file_extension": ".py",
   "mimetype": "text/x-python",
   "name": "python",
   "nbconvert_exporter": "python",
   "pygments_lexer": "ipython3",
   "version": "3.11.9"
  }
 },
 "nbformat": 4,
 "nbformat_minor": 2
}
