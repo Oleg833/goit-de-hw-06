{
 "cells": [
  {
   "cell_type": "code",
   "execution_count": null,
   "metadata": {},
   "outputs": [],
   "source": [
    "!pip3 install pyspark"
   ]
  },
  {
   "cell_type": "code",
   "execution_count": 1,
   "metadata": {},
   "outputs": [
    {
     "name": "stdout",
     "output_type": "stream",
     "text": [
      "+---+------------+------------+---------------+---------------+----+-------------+\n",
      "| id|humidity_min|humidity_max|temperature_min|temperature_max|code|      message|\n",
      "+---+------------+------------+---------------+---------------+----+-------------+\n",
      "|  1|           0|          40|           -999|           -999| 101| It's too dry|\n",
      "|  2|          60|         100|           -999|           -999| 102| It's too wet|\n",
      "|  3|        -999|        -999|           -300|             30| 103|It's too cold|\n",
      "|  4|        -999|        -999|             40|            300| 104| It's too hot|\n",
      "+---+------------+------------+---------------+---------------+----+-------------+\n",
      "\n"
     ]
    }
   ],
   "source": [
    "import datetime\n",
    "import uuid\n",
    "\n",
    "from pyspark.sql.functions import *\n",
    "from pyspark.sql.types import StructType, StructField, IntegerType, DoubleType\n",
    "from pyspark.sql import SparkSession\n",
    "from configs import kafka_config\n",
    "import os\n",
    "\n",
    "os.environ[\"PYSPARK_SUBMIT_ARGS\"] = (\n",
    "    \"--packages org.apache.spark:spark-streaming-kafka-0-10_2.12:3.5.1,org.apache.spark:spark-sql-kafka-0-10_2.12:3.5.1 pyspark-shell\"\n",
    ")\n",
    "\n",
    "spark = (\n",
    "    SparkSession.builder.appName(\"KafkaStreaming\")\n",
    "    .master(\"local[*]\")\n",
    "    .config(\"spark.sql.debug.maxToStringFields\", \"200\")\n",
    "    .config(\"spark.sql.columnNameLengthThreshold\", \"200\")\n",
    "    .getOrCreate()\n",
    ")\n",
    "\n",
    "alerts_df = spark.read.csv(\"alerts_conditions.csv\", header=True)\n",
    "\n",
    "alerts_df.show()"
   ]
  }
 ],
 "metadata": {
  "kernelspec": {
   "display_name": ".venv",
   "language": "python",
   "name": "python3"
  },
  "language_info": {
   "codemirror_mode": {
    "name": "ipython",
    "version": 3
   },
   "file_extension": ".py",
   "mimetype": "text/x-python",
   "name": "python",
   "nbconvert_exporter": "python",
   "pygments_lexer": "ipython3",
   "version": "3.11.9"
  }
 },
 "nbformat": 4,
 "nbformat_minor": 2
}
