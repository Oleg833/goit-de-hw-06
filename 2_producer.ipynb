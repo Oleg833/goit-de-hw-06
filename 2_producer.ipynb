{
 "cells": [
  {
   "cell_type": "code",
   "execution_count": 1,
   "metadata": {},
   "outputs": [
    {
     "name": "stdout",
     "output_type": "stream",
     "text": [
      "Повідомлення 0 надіслано в тему 'building_sensors_oleh47' успішно з даними: {'sensor_id': 3, 'timestamp': '2024-11-25 00:20:44', 'temperature': 33, 'humidity': 76}\n",
      "Повідомлення 1 надіслано в тему 'building_sensors_oleh47' успішно з даними: {'sensor_id': 3, 'timestamp': '2024-11-25 00:20:46', 'temperature': 36, 'humidity': 64}\n",
      "Повідомлення 2 надіслано в тему 'building_sensors_oleh47' успішно з даними: {'sensor_id': 3, 'timestamp': '2024-11-25 00:20:48', 'temperature': 39, 'humidity': 79}\n",
      "Повідомлення 3 надіслано в тему 'building_sensors_oleh47' успішно з даними: {'sensor_id': 3, 'timestamp': '2024-11-25 00:20:50', 'temperature': 32, 'humidity': 70}\n",
      "Повідомлення 4 надіслано в тему 'building_sensors_oleh47' успішно з даними: {'sensor_id': 3, 'timestamp': '2024-11-25 00:20:52', 'temperature': 38, 'humidity': 79}\n",
      "Повідомлення 5 надіслано в тему 'building_sensors_oleh47' успішно з даними: {'sensor_id': 3, 'timestamp': '2024-11-25 00:20:54', 'temperature': 29, 'humidity': 33}\n",
      "Повідомлення 6 надіслано в тему 'building_sensors_oleh47' успішно з даними: {'sensor_id': 3, 'timestamp': '2024-11-25 00:20:56', 'temperature': 44, 'humidity': 68}\n",
      "Повідомлення 7 надіслано в тему 'building_sensors_oleh47' успішно з даними: {'sensor_id': 3, 'timestamp': '2024-11-25 00:20:59', 'temperature': 34, 'humidity': 69}\n",
      "Повідомлення 8 надіслано в тему 'building_sensors_oleh47' успішно з даними: {'sensor_id': 3, 'timestamp': '2024-11-25 00:21:01', 'temperature': 40, 'humidity': 49}\n",
      "Повідомлення 9 надіслано в тему 'building_sensors_oleh47' успішно з даними: {'sensor_id': 3, 'timestamp': '2024-11-25 00:21:03', 'temperature': 26, 'humidity': 85}\n",
      "Повідомлення 10 надіслано в тему 'building_sensors_oleh47' успішно з даними: {'sensor_id': 3, 'timestamp': '2024-11-25 00:21:05', 'temperature': 29, 'humidity': 67}\n",
      "Повідомлення 11 надіслано в тему 'building_sensors_oleh47' успішно з даними: {'sensor_id': 3, 'timestamp': '2024-11-25 00:21:07', 'temperature': 41, 'humidity': 75}\n",
      "Повідомлення 12 надіслано в тему 'building_sensors_oleh47' успішно з даними: {'sensor_id': 3, 'timestamp': '2024-11-25 00:21:09', 'temperature': 33, 'humidity': 21}\n",
      "Повідомлення 13 надіслано в тему 'building_sensors_oleh47' успішно з даними: {'sensor_id': 3, 'timestamp': '2024-11-25 00:21:11', 'temperature': 42, 'humidity': 16}\n",
      "Повідомлення 14 надіслано в тему 'building_sensors_oleh47' успішно з даними: {'sensor_id': 3, 'timestamp': '2024-11-25 00:21:13', 'temperature': 33, 'humidity': 34}\n",
      "Повідомлення 15 надіслано в тему 'building_sensors_oleh47' успішно з даними: {'sensor_id': 3, 'timestamp': '2024-11-25 00:21:15', 'temperature': 45, 'humidity': 77}\n",
      "Повідомлення 16 надіслано в тему 'building_sensors_oleh47' успішно з даними: {'sensor_id': 3, 'timestamp': '2024-11-25 00:21:17', 'temperature': 45, 'humidity': 57}\n",
      "Повідомлення 17 надіслано в тему 'building_sensors_oleh47' успішно з даними: {'sensor_id': 3, 'timestamp': '2024-11-25 00:21:19', 'temperature': 25, 'humidity': 48}\n",
      "Повідомлення 18 надіслано в тему 'building_sensors_oleh47' успішно з даними: {'sensor_id': 3, 'timestamp': '2024-11-25 00:21:21', 'temperature': 45, 'humidity': 23}\n",
      "Повідомлення 19 надіслано в тему 'building_sensors_oleh47' успішно з даними: {'sensor_id': 3, 'timestamp': '2024-11-25 00:21:23', 'temperature': 36, 'humidity': 15}\n"
     ]
    }
   ],
   "source": [
    "# producer.py\n",
    "from kafka import KafkaProducer\n",
    "import json\n",
    "import random\n",
    "import time\n",
    "import uuid\n",
    "from configs import kafka_config\n",
    "\n",
    "# Налаштування Kafka\n",
    "KAFKA_CONFIG = {\n",
    "    \"bootstrap_servers\": kafka_config[\"bootstrap_servers\"],\n",
    "    \"security_protocol\": kafka_config[\"security_protocol\"],\n",
    "    \"sasl_mechanism\": kafka_config[\"sasl_mechanism\"],\n",
    "    \"sasl_plain_username\": kafka_config[\"username\"],\n",
    "    \"sasl_plain_password\": kafka_config[\"password\"],\n",
    "}\n",
    "\n",
    "your_name = \"oleh47\"\n",
    "TOPIC_SENSORS = f\"building_sensors_{your_name}\"\n",
    "\n",
    "\n",
    "# Виробник (Producer) для відправки даних з датчиків у топік building_sensors\n",
    "def produce_sensor_data():\n",
    "    producer = KafkaProducer(\n",
    "        **KAFKA_CONFIG, value_serializer=lambda v: json.dumps(v).encode(\"utf-8\")\n",
    "    )\n",
    "    sensor_id = random.randint(1, 5)\n",
    "    for i in range(20):\n",
    "        try:\n",
    "            data = {\n",
    "                \"sensor_id\": sensor_id,\n",
    "                \"timestamp\": time.strftime(\"%Y-%m-%d %H:%M:%S\", time.localtime()),\n",
    "                \"temperature\": random.randint(25, 45),\n",
    "                \"humidity\": random.randint(15, 85),\n",
    "            }\n",
    "            producer.send(\n",
    "                TOPIC_SENSORS, key=str(uuid.uuid4()).encode(\"utf-8\"), value=data\n",
    "            )\n",
    "            producer.flush()\n",
    "            print(\n",
    "                f\"Повідомлення {i} надіслано в тему '{TOPIC_SENSORS}' успішно з даними: {data}\"\n",
    "            )\n",
    "            time.sleep(2)\n",
    "        except Exception as e:\n",
    "            print(f\"An error occurred: {e}\")\n",
    "    producer.close()\n",
    "\n",
    "\n",
    "if __name__ == \"__main__\":\n",
    "    produce_sensor_data()"
   ]
  }
 ],
 "metadata": {
  "kernelspec": {
   "display_name": ".venv",
   "language": "python",
   "name": "python3"
  },
  "language_info": {
   "codemirror_mode": {
    "name": "ipython",
    "version": 3
   },
   "file_extension": ".py",
   "mimetype": "text/x-python",
   "name": "python",
   "nbconvert_exporter": "python",
   "pygments_lexer": "ipython3",
   "version": "3.11.9"
  }
 },
 "nbformat": 4,
 "nbformat_minor": 2
}
