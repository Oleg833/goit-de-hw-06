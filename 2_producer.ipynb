{
 "cells": [
  {
   "cell_type": "code",
   "execution_count": null,
   "metadata": {},
   "outputs": [],
   "source": [
    "# producer.py\n",
    "from kafka import KafkaProducer\n",
    "import json\n",
    "import random\n",
    "import time\n",
    "import uuid\n",
    "from configs import kafka_config\n",
    "\n",
    "# Налаштування Kafka\n",
    "KAFKA_CONFIG = {\n",
    "    \"bootstrap_servers\": kafka_config[\"bootstrap_servers\"],\n",
    "    \"security_protocol\": kafka_config[\"security_protocol\"],\n",
    "    \"sasl_mechanism\": kafka_config[\"sasl_mechanism\"],\n",
    "    \"sasl_plain_username\": kafka_config[\"username\"],\n",
    "    \"sasl_plain_password\": kafka_config[\"password\"],\n",
    "}\n",
    "\n",
    "# your_name = \"volodymyr17\"\n",
    "your_name = \"oleh47\"\n",
    "TOPIC_SENSORS = f\"building_sensors_{your_name}\"\n",
    "# TOPIC_SENSORS = \"alert_Kafka_topic\"\n",
    "\n",
    "\n",
    "# Виробник (Producer) для відправки даних з датчиків у топік building_sensors\n",
    "def produce_sensor_data():\n",
    "    producer = KafkaProducer(\n",
    "        **KAFKA_CONFIG, value_serializer=lambda v: json.dumps(v).encode(\"utf-8\")\n",
    "    )\n",
    "    sensor_id = random.randint(1, 5)\n",
    "    for i in range(200):\n",
    "        try:\n",
    "            data = {\n",
    "                \"sensor_id\": sensor_id,\n",
    "                \"timestamp\": time.strftime(\"%Y-%m-%d %H:%M:%S\", time.localtime()),\n",
    "                \"temperature\": random.randint(25, 45),\n",
    "                \"humidity\": random.randint(15, 85),\n",
    "            }\n",
    "            producer.send(\n",
    "                TOPIC_SENSORS, key=str(uuid.uuid4()).encode(\"utf-8\"), value=data\n",
    "            )\n",
    "            producer.flush()\n",
    "            print(\n",
    "                f\"Повідомлення {i} надіслано в тему '{TOPIC_SENSORS}' успішно з даними: {data}\"\n",
    "            )\n",
    "            time.sleep(2)\n",
    "        except Exception as e:\n",
    "            print(f\"An error occurred: {e}\")\n",
    "    producer.close()\n",
    "\n",
    "\n",
    "if __name__ == \"__main__\":\n",
    "    produce_sensor_data()"
   ]
  }
 ],
 "metadata": {
  "kernelspec": {
   "display_name": ".venv",
   "language": "python",
   "name": "python3"
  },
  "language_info": {
   "codemirror_mode": {
    "name": "ipython",
    "version": 3
   },
   "file_extension": ".py",
   "mimetype": "text/x-python",
   "name": "python",
   "nbconvert_exporter": "python",
   "pygments_lexer": "ipython3",
   "version": "3.11.9"
  }
 },
 "nbformat": 4,
 "nbformat_minor": 2
}
